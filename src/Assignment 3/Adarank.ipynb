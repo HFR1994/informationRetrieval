{
 "cells": [
  {
   "cell_type": "code",
   "execution_count": 23,
   "id": "85c94172-4d0d-4ebc-9461-79c78e203eab",
   "metadata": {},
   "outputs": [],
   "source": [
    "import math\n",
    "import random\n",
    "import numpy as np\n",
    "from collections import Counter\n",
    "\n",
    "import pandas as pd\n",
    "\n",
    "import nltk\n",
    "from nltk.corpus import stopwords\n",
    "from nltk.stem import PorterStemmer\n",
    "from sklearn.feature_extraction.text import TfidfVectorizer"
   ]
  },
  {
   "cell_type": "code",
   "execution_count": 2,
   "id": "19d84b69-b4d9-4d51-b7f0-9655f88da6f0",
   "metadata": {},
   "outputs": [
    {
     "name": "stderr",
     "output_type": "stream",
     "text": [
      "[nltk_data] Downloading package stopwords to /home/vscode/nltk_data...\n",
      "[nltk_data]   Package stopwords is already up-to-date!\n",
      "[nltk_data] Downloading package punkt to /home/vscode/nltk_data...\n",
      "[nltk_data]   Package punkt is already up-to-date!\n",
      "[nltk_data] Downloading package punkt_tab to /home/vscode/nltk_data...\n",
      "[nltk_data]   Unzipping tokenizers/punkt_tab.zip.\n"
     ]
    },
    {
     "data": {
      "text/plain": [
       "True"
      ]
     },
     "execution_count": 2,
     "metadata": {},
     "output_type": "execute_result"
    }
   ],
   "source": [
    "# Download stopwords\n",
    "nltk.download('stopwords')\n",
    "nltk.download('punkt')\n",
    "nltk.download('punkt_tab')"
   ]
  },
  {
   "cell_type": "code",
   "execution_count": 110,
   "id": "feada556-5c48-4bd3-91d5-094116da1d17",
   "metadata": {},
   "outputs": [],
   "source": [
    "def preprocess(text, stop_words, stemmer):\n",
    "    \"\"\"Text preprocessing pipeline\"\"\"\n",
    "    tokens = nltk.word_tokenize(text.lower())\n",
    "    tokens = [subword for word in tokens for subword in (word.split(\"/\") if \"/\" in word else [word])]\n",
    "    tokens = [t for t in tokens if t not in stop_words and t.isalnum()]\n",
    "    if stemmer:\n",
    "        return [stemmer.stem(t) for t in tokens]\n",
    "    return tokens\n",
    "\n",
    "def dcg(relevance_scores):\n",
    "    \"\"\"Compute Discounted Cumulative Gain (DCG)\"\"\"\n",
    "    return np.sum([rel.relevant / np.log2(idx + 2) for idx, rel in enumerate(relevance_scores.itertuples(), start=1)])\n",
    "\n",
    "def ndcg(df, queries):\n",
    "    \"\"\"Compute Normalized Discounted Cumulative Gain (NDCG)\"\"\"\n",
    "\n",
    "    scores = []\n",
    "    for query in queries:\n",
    "        retrieved = df[df[\"query\"] == query]\n",
    "        \n",
    "        dcg_value = dcg(retrieved)\n",
    "        ideal_relevance_scores = retrieved.sort_values(by=['relevant'], ascending=False)  # Ideal ranking\n",
    "        idcg_value = dcg(ideal_relevance_scores)\n",
    "    \n",
    "        scores.append(dcg_value / idcg_value if idcg_value > 0 else 0.0)\n",
    "\n",
    "    return np.mean(scores) if scores else 0.0\n",
    "   \n",
    "def calculate_map(df, queries):\n",
    "    \"\"\"Calculate Mean Average Precision (MAP) is a common metric used in information retrieval to evaluate ranking systems\"\"\"\n",
    "    ap_scores = []\n",
    "    \n",
    "    for query in queries:\n",
    "        retrieved = df[df[\"query\"] == query]\n",
    "    \n",
    "        precisions = []\n",
    "        relevant_found = 0\n",
    "\n",
    "        # Ranked is given by order of apperance\n",
    "        for idx, doc in enumerate(retrieved.itertuples(), start=1):\n",
    "            if doc.relevant:\n",
    "                relevant_found += 1\n",
    "                precisions.append(relevant_found / (idx + 1))\n",
    "        \n",
    "        ap_scores.append(np.mean(precisions) if precisions else 0.0)\n",
    "    \n",
    "    return np.mean(ap_scores) if ap_scores else 0.0"
   ]
  },
  {
   "cell_type": "code",
   "execution_count": 4,
   "id": "27939e81-cd55-44f4-9a67-e18c909108da",
   "metadata": {},
   "outputs": [
    {
     "name": "stdout",
     "output_type": "stream",
     "text": [
      "  loinc_num                                   long_common_name  \\\n",
      "0    1988-5  C reactive protein [Mass/volume] in Serum or P...   \n",
      "1    1959-6                Bicarbonate [Moles/volume] in Blood   \n",
      "2   10331-7                                 Rh [Type] in Blood   \n",
      "3   18998-5     Trimethoprim+Sulfamethoxazole [Susceptibility]   \n",
      "4    1975-2   Bilirubin.total [Mass/volume] in Serum or Plasma   \n",
      "\n",
      "                       component    system property             query  \n",
      "0             C reactive protein  Ser/Plas     MCnc  GLUCOSE IN BLOOD  \n",
      "1                    Bicarbonate       Bld     SCnc  GLUCOSE IN BLOOD  \n",
      "2                             Rh       Bld     Type  GLUCOSE IN BLOOD  \n",
      "3  Trimethoprim+Sulfamethoxazole   Isolate     Susc  GLUCOSE IN BLOOD  \n",
      "4                      Bilirubin  Ser/Plas     MCnc  GLUCOSE IN BLOOD  \n"
     ]
    }
   ],
   "source": [
    "file_name =\"ioinc_dataset-v3.xlsx\" # path to file + file name\n",
    "sheet = \"Sheet 1\" # sheet name or sheet number or list of sheet numbers and names\n",
    "\n",
    "df = pd.read_excel(file_name, sheet_name=sheet, header=0)\n",
    "print(df.head())"
   ]
  },
  {
   "cell_type": "code",
   "execution_count": 111,
   "id": "f24a292d-423b-489a-8769-4f63e0692a42",
   "metadata": {},
   "outputs": [
    {
     "name": "stdout",
     "output_type": "stream",
     "text": [
      "0.184889999749017\n",
      "0.5990864192572847\n"
     ]
    }
   ],
   "source": [
    "stemmer = PorterStemmer()\n",
    "stop_words = set(stopwords.words('english'))\n",
    "total_docs = len(df)\n",
    "\n",
    "df['text'] = df.apply(lambda row: f\"{row['long_common_name']}\\n\"\n",
    "                                           f\"{row['component']}, {row['system']}, {row['property']}\\n---\", axis=1)\n",
    "\n",
    "random.seed(1221)\n",
    "# Assigned a relevance between 0 (weight 80%) and 1 (weight 20%)\n",
    "df[\"relevant\"] = df.apply(lambda row: random.random() < 0.20, axis=1)\n",
    "queries = [\"GLUCOSE IN BLOOD\", \"BILIRUBIN IN PLASMA\", \"WHITE BLOOD CELLS COUNT\"]\n",
    "\n",
    "print(calculate_map(df, queries))\n",
    "print(ndcg(df, queries))"
   ]
  },
  {
   "cell_type": "code",
   "execution_count": null,
   "id": "4c83d953-9e19-4195-941f-1236c6c57a74",
   "metadata": {},
   "outputs": [],
   "source": []
  }
 ],
 "metadata": {
  "kernelspec": {
   "display_name": "Python 3 (ipykernel)",
   "language": "python",
   "name": "python3"
  },
  "language_info": {
   "codemirror_mode": {
    "name": "ipython",
    "version": 3
   },
   "file_extension": ".py",
   "mimetype": "text/x-python",
   "name": "python",
   "nbconvert_exporter": "python",
   "pygments_lexer": "ipython3",
   "version": "3.11.11"
  }
 },
 "nbformat": 4,
 "nbformat_minor": 5
}
